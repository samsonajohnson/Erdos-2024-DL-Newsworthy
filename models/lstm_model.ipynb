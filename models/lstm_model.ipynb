{
 "cells": [
  {
   "cell_type": "markdown",
   "metadata": {},
   "source": [
    "# Exploring the LSTM model for stock price prediction"
   ]
  },
  {
   "cell_type": "code",
   "execution_count": null,
   "metadata": {},
   "outputs": [],
   "source": [
    "import os "
   ]
  },
  {
   "cell_type": "code",
   "execution_count": null,
   "metadata": {},
   "outputs": [],
   "source": [
    "os.getcwd()"
   ]
  },
  {
   "cell_type": "code",
   "execution_count": null,
   "metadata": {},
   "outputs": [],
   "source": [
    "os.chdir('/atlas/data19/guhitj/Erdos_DL/Erdos_v2/Erdos-2024-DL-Newsworthy/models')"
   ]
  },
  {
   "cell_type": "markdown",
   "metadata": {},
   "source": [
    "### Load the data\n"
   ]
  },
  {
   "cell_type": "code",
   "execution_count": null,
   "metadata": {},
   "outputs": [],
   "source": [
    "import pandas as pd\n",
    "import datetime\n",
    "from tensorflow import keras\n",
    "import data_engineering\n",
    "import simulation\n",
    "import numpy as np\n",
    "import lstm_model"
   ]
  },
  {
   "cell_type": "code",
   "execution_count": null,
   "metadata": {},
   "outputs": [],
   "source": [
    "# load data\n",
    "df_dict = data_engineering.separate_by_stock()\n",
    "\n",
    "df_dict = data_engineering.fillna(df_dict)\n",
    "\n",
    "cv_trades = [{}, {}, {}, {}]\n",
    "cv_opens = [{}, {}, {}, {}]\n",
    "for tick in df_dict:\n",
    "    train, test = data_engineering.train_test_split(df_dict[tick])\n",
    "    \n",
    "    features = [\"frob_comp\", \"pos_art_count\", \"total_articles\", \"Open_Diff\", \"y\", \"Open\"]\n",
    "\n",
    "    train, test = train[features], test[features]\n",
    "\n",
    "    #accs = np.zeros(4)\n",
    "    i = 0\n",
    "    for train_idx, test_idx in data_engineering.get_cv_splits(train):\n",
    "        cv_opens[i][tick] = train.loc[test_idx, \"Open\"]\n",
    "\n",
    "        df_tt = train.loc[train_idx].drop(columns=['Open'])\n",
    "        df_ho = train.loc[test_idx].drop(columns=['Open'])\n",
    "\n",
    "        pred_change, trades = lstm_model.run_lstm_model(df_tt, df_ho)\n",
    "        cv_trades[i][tick] = trades\n",
    "        i+=1\n",
    "    \n",
    "for i in range(len(trades)):\n",
    "    print(simulation.get_performance(cv_trades[i], cv_opens[i]))\n"
   ]
  },
  {
   "cell_type": "code",
   "execution_count": null,
   "metadata": {},
   "outputs": [],
   "source": [
    "def get_performance(trade_dict, test_dict):\n",
    "    n = len(trade_dict[\"AAPL\"])\n",
    "    x_t = [1] * n\n",
    "    for i in range(1,n):\n",
    "        x_t[i] = x_t[i-1] / 2\n",
    "        for tick in trade_dict:\n",
    "            x_t[i] += (x_t[i-1] / 30) * (1 + trade_dict[tick][i-1] * (test_dict[tick][i] - test_dict[tick][i-1]) / test_dict[tick][i-1])\n",
    "    return x_t[-1]\n"
   ]
  },
  {
   "cell_type": "code",
   "execution_count": null,
   "metadata": {},
   "outputs": [],
   "source": [
    "for i in range(4):\n",
    "    print(get_performance(cv_trades[i], cv_opens[i]))"
   ]
  },
  {
   "cell_type": "code",
   "execution_count": null,
   "metadata": {},
   "outputs": [],
   "source": [
    "samp_trade = np.array([1,1])\n",
    "samp_open = np.array([1,2])\n",
    "samp_t_dict = {tick:samp_trade.copy() for tick in df_dict}\n",
    "samp_o_dict = {tick:samp_open.copy() for tick in df_dict}\n",
    "\n",
    "print(get_performance(samp_t_dict, samp_o_dict))\n",
    "\n",
    "samp_trade = np.array([-1,1])\n",
    "samp_open = np.array([1,2])\n",
    "samp_t_dict = {tick:samp_trade.copy() for tick in df_dict}\n",
    "samp_o_dict = {tick:samp_open.copy() for tick in df_dict}\n",
    "\n",
    "print(get_performance(samp_t_dict, samp_o_dict))\n",
    "\n"
   ]
  },
  {
   "cell_type": "code",
   "execution_count": null,
   "metadata": {},
   "outputs": [],
   "source": [
    "cv_trades = [{}, {}, {}, {}]\n",
    "cv_opens = [{}, {}, {}, {}]\n",
    "for tick in df_dict:\n",
    "    train, test = data_engineering.train_test_split(df_dict[tick])\n",
    "    \n",
    "    features = [\"finvader_tot\", \"Open_Diff\", \"y\", \"Open\"]\n",
    "\n",
    "    train, test = train[features], test[features]\n",
    "\n",
    "    #accs = np.zeros(4)\n",
    "    i = 0\n",
    "    for train_idx, test_idx in data_engineering.get_cv_splits(train):\n",
    "        cv_opens[i][tick] = train.loc[test_idx, \"Open\"]\n",
    "\n",
    "        df_tt = train.loc[train_idx].drop(columns=['Open'])\n",
    "        df_ho = train.loc[test_idx].drop(columns=['Open'])\n",
    "\n",
    "        pred_change, trades = lstm_model.run_lstm_model(df_tt, df_ho, epochs=4)\n",
    "        cv_trades[i][tick] = trades\n",
    "        i+=1\n",
    "    \n",
    "for i in range(len(trades)):\n",
    "    print(simulation.get_performance(cv_trades[i], cv_opens[i]))"
   ]
  },
  {
   "cell_type": "code",
   "execution_count": null,
   "metadata": {},
   "outputs": [],
   "source": [
    "for i in range(4):\n",
    "    print(get_performance(cv_trades[i], cv_opens[i]))"
   ]
  },
  {
   "cell_type": "code",
   "execution_count": null,
   "metadata": {},
   "outputs": [],
   "source": [
    "\n",
    "train, test = data_engineering.train_test_split(df_dict['AAPL'])\n",
    "train, test = train[features], test[features]\n"
   ]
  },
  {
   "cell_type": "markdown",
   "metadata": {},
   "source": [
    "## Scales the data"
   ]
  },
  {
   "cell_type": "code",
   "execution_count": null,
   "metadata": {},
   "outputs": [],
   "source": [
    "from sklearn.preprocessing import MinMaxScaler\n",
    "\n",
    "X, y = train.drop(columns=['y']).values, train.y.values\n",
    "\n",
    "X_test, y_test = test.drop(columns=['y']).values, test.y.values\n",
    "\n",
    "scaler_X = MinMaxScaler(feature_range=(-1,1))\n",
    "scaler_y = MinMaxScaler(feature_range=(-1,1))\n",
    "\n",
    "# scales the open_diff column to be between -1 and 1\n",
    "X[:,1:] = scaler_X.fit_transform(X[:,1:])\n",
    "y = scaler_y.fit_transform(y.reshape(-1,1)).reshape(-1,)\n",
    "\n",
    "X_test[:,1:] = scaler_X.fit_transform(X_test[:,1:])\n",
    "y_test = scaler_y.transform(y_test.reshape(-1,1)).reshape(-1,)\n",
    "\n"
   ]
  },
  {
   "cell_type": "code",
   "execution_count": null,
   "metadata": {},
   "outputs": [],
   "source": []
  },
  {
   "cell_type": "markdown",
   "metadata": {},
   "source": [
    "## Fits the model using scaled data"
   ]
  },
  {
   "cell_type": "markdown",
   "metadata": {},
   "source": [
    "## Creating the LSTM model"
   ]
  },
  {
   "cell_type": "code",
   "execution_count": null,
   "metadata": {},
   "outputs": [],
   "source": [
    "def fit_lstm(X, y, batch_size, nb_epoch, neurons):\n",
    "    X = X.reshape(X.shape[0], 1, X.shape[1])\n",
    "    model = keras.Sequential()\n",
    "    model.add(keras.layers.LSTM(neurons, batch_input_shape=(1, X.shape[1], X.shape[2]), stateful=True))\n",
    "    model.add(keras.layers.Dense(1))\n",
    "    model.compile(loss='mean_squared_error', optimizer='adam')\n",
    "    for i in range(nb_epoch):\n",
    "        model.fit(X, y, epochs=1, batch_size=batch_size, verbose=1, shuffle=False)\n",
    "        model.reset_states()\n",
    "    return model"
   ]
  },
  {
   "cell_type": "code",
   "execution_count": null,
   "metadata": {},
   "outputs": [],
   "source": [
    "model = fit_lstm(X, y, 1, 10, 3)"
   ]
  },
  {
   "cell_type": "code",
   "execution_count": null,
   "metadata": {},
   "outputs": [],
   "source": [
    "def forecast_lstm(model, batch_size, X):\n",
    "    X = X.reshape(-1, 1, X.shape[1])\n",
    "    yhat = model.predict(X, batch_size=batch_size)\n",
    "    return yhat[0,0]"
   ]
  },
  {
   "cell_type": "code",
   "execution_count": null,
   "metadata": {},
   "outputs": [],
   "source": [
    "forecast_lstm(model, 1, X_test)"
   ]
  },
  {
   "cell_type": "code",
   "execution_count": null,
   "metadata": {},
   "outputs": [],
   "source": [
    "from pandas import DataFrame\n",
    "from pandas import Series\n",
    "from pandas import concat\n",
    "from pandas import read_csv\n",
    "from pandas import datetime\n",
    "from sklearn.metrics import mean_squared_error\n",
    "from sklearn.preprocessing import MinMaxScaler\n",
    "from keras.models import Sequential\n",
    "from keras.layers import Dense\n",
    "from keras.layers import LSTM\n",
    "from math import sqrt\n",
    "#from matplotlib import pyplot\n",
    "import numpy as np\n",
    " \n",
    "# date-time parsing function for loading the dataset\n",
    "def parser(x):\n",
    "    return datetime.strptime('190'+x, '%Y-%m')\n",
    " \n",
    "# invert differenced value\n",
    "def inverse_difference(history, yhat, interval=1):\n",
    "    return yhat + history[-interval]\n",
    " \n",
    "# scale train and test data to [-1, 1]\n",
    "def scale(train, test):\n",
    "    # fit scaler\n",
    "    scaler = MinMaxScaler(feature_range=(-1, 1))\n",
    "    scaler = scaler.fit(train)\n",
    "    # transform train\n",
    "    train = train.reshape(train.shape[0], train.shape[1])\n",
    "    train_scaled = scaler.transform(train)\n",
    "    # transform test\n",
    "    test = test.reshape(test.shape[0], test.shape[1])\n",
    "    test_scaled = scaler.transform(test)\n",
    "    return scaler, train_scaled, test_scaled\n",
    " \n",
    "# inverse scaling for a forecasted value\n",
    "def invert_scale(scaler, X, value):\n",
    "    new_row = [x for x in X] + [value]\n",
    "    array = numpy.array(new_row)\n",
    "    array = array.reshape(1, len(array))\n",
    "    inverted = scaler.inverse_transform(array)\n",
    "    return inverted[0, -1]\n",
    " \n",
    "# fit an LSTM network to training data\n",
    "def fit_lstm(X, y, batch_size, nb_epoch, neurons):\n",
    "    X = X.reshape(X.shape[0], 1, X.shape[1])\n",
    "    model = keras.Sequential()\n",
    "    model.add(keras.layers.LSTM(neurons, batch_input_shape=(1, X.shape[1], X.shape[2]), stateful=True))\n",
    "    model.add(keras.layers.Dense(1))\n",
    "    model.compile(loss='mean_squared_error', optimizer='adam')\n",
    "    for i in range(nb_epoch):\n",
    "        model.fit(X, y, epochs=1, batch_size=batch_size, verbose=1, shuffle=False)\n",
    "        model.reset_states()\n",
    "    return model\n",
    " \n",
    "# make a one-step forecast\n",
    "def forecast_lstm(model, batch_size, X):\n",
    "    X = X.reshape(1, 1, len(X))\n",
    "    yhat = model.predict(X, batch_size=batch_size)\n",
    "    return yhat[0,0]\n",
    "\n",
    "\n",
    "X, y = train.drop(columns=['y']).values, train.y.values\n",
    "\n",
    "X_test, y_test = test.drop(columns=['y']).values, test.y.values\n",
    "\n",
    "scaler_X = MinMaxScaler(feature_range=(-1,1))\n",
    "scaler_y = MinMaxScaler(feature_range=(-1,1))\n",
    "\n",
    "# scales the open_diff column to be between -1 and 1\n",
    "X[:,1:] = scaler_X.fit_transform(X[:,1:])\n",
    "y = scaler_y.fit_transform(y.reshape(-1,1)).reshape(-1,)\n",
    "\n",
    "X_test[:,1:] = scaler_X.fit_transform(X_test[:,1:])\n",
    "\n",
    "\n",
    "\n",
    "\n",
    "model = fit_lstm(X, y, 1, 10, 3)\n",
    "\n",
    "\n",
    "\n",
    "# forecast the entire training dataset to build up state for forecasting\n",
    "X_reshaped = X.reshape(X.shape[0], 1, X.shape[1])\n",
    "model.predict(X_reshaped, batch_size=1)\n",
    " \n",
    "# walk-forward validation on the test data\n",
    "predictions = list()\n",
    "for i in range(X_test.shape[0]):\n",
    "    # make one-step forecast\n",
    "    yhat = forecast_lstm(model, 1, X_test[i,:])\n",
    "    # invert scaling\n",
    "    yhat = scaler_y.inverse_transform(np.array([yhat]).reshape(1,1))[0,0]\n",
    "    \n",
    "    # invert differencing\n",
    "    #pred_open = open_prices.iloc[i] + yhat\n",
    "    # store forecast\n",
    "    predictions.append(yhat)\n",
    "    \n",
    "    actual = y_test[i]\n",
    "    print('Day=%d, Predicted=%f, Expected=%f' % (i+1, yhat, actual))\n",
    "\n",
    "print(len(predictions)==len(y_test))\n",
    "# report performance\n",
    "rmse = sqrt(mean_squared_error(y_test, predictions))\n",
    "print('Test RMSE: %.3f' % rmse)\n",
    "# line plot of observed vs predicted\n",
    "#pyplot.plot(raw_values[-12:])\n",
    "#pyplot.plot(predictions)\n",
    "#pyplot.show()"
   ]
  },
  {
   "cell_type": "code",
   "execution_count": null,
   "metadata": {},
   "outputs": [],
   "source": [
    "pred_rise_fall = predictions / np.abs(predictions)\n",
    "actual_rise_fall = y_test / np.abs(y_test)"
   ]
  },
  {
   "cell_type": "code",
   "execution_count": null,
   "metadata": {},
   "outputs": [],
   "source": [
    "from sklearn.metrics import accuracy_score\n",
    "accuracy_score(pred_rise_fall, actual_rise_fall)"
   ]
  },
  {
   "cell_type": "code",
   "execution_count": null,
   "metadata": {},
   "outputs": [],
   "source": [
    "import lstm_model"
   ]
  },
  {
   "cell_type": "code",
   "execution_count": null,
   "metadata": {},
   "outputs": [],
   "source": [
    "pred_change, trades = lstm_model.run_lstm_model(train, test)"
   ]
  },
  {
   "cell_type": "code",
   "execution_count": null,
   "metadata": {},
   "outputs": [],
   "source": [
    "import numpy as np\n",
    "from sklearn.metrics import accuracy_score"
   ]
  },
  {
   "cell_type": "code",
   "execution_count": null,
   "metadata": {},
   "outputs": [],
   "source": [
    "accuracy_score(test.y / np.abs(test.y), trades)"
   ]
  },
  {
   "cell_type": "code",
   "execution_count": null,
   "metadata": {},
   "outputs": [],
   "source": []
  },
  {
   "cell_type": "code",
   "execution_count": null,
   "metadata": {},
   "outputs": [],
   "source": []
  }
 ],
 "metadata": {
  "kernelspec": {
   "display_name": "erdos_ds_2024_newsworthy",
   "language": "python",
   "name": "python3"
  },
  "language_info": {
   "codemirror_mode": {
    "name": "ipython",
    "version": 3
   },
   "file_extension": ".py",
   "mimetype": "text/x-python",
   "name": "python",
   "nbconvert_exporter": "python",
   "pygments_lexer": "ipython3",
   "version": "3.11.9"
  }
 },
 "nbformat": 4,
 "nbformat_minor": 2
}

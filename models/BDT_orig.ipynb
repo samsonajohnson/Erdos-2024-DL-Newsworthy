{
 "cells": [
  {
   "cell_type": "code",
   "execution_count": 2,
   "metadata": {},
   "outputs": [],
   "source": [
    "import os "
   ]
  },
  {
   "cell_type": "code",
   "execution_count": 3,
   "metadata": {},
   "outputs": [
    {
     "data": {
      "text/plain": [
       "'/atlas/data19/guhitj/Erdos_DL'"
      ]
     },
     "execution_count": 3,
     "metadata": {},
     "output_type": "execute_result"
    }
   ],
   "source": [
    "os.getcwd()"
   ]
  },
  {
   "cell_type": "code",
   "execution_count": 4,
   "metadata": {},
   "outputs": [],
   "source": [
    "os.chdir('/atlas/data19/guhitj/Erdos_DL/Erdos_v2/Erdos-2024-DL-Newsworthy/models')"
   ]
  },
  {
   "cell_type": "code",
   "execution_count": 5,
   "metadata": {},
   "outputs": [],
   "source": [
    "import pandas as pd\n",
    "import data_engineering_orig as de_orig\n",
    "from sklearn.ensemble import GradientBoostingRegressor\n",
    "from xgboost import XGBRegressor\n",
    "from sklearn.model_selection import GridSearchCV\n",
    "from sklearn.feature_selection import SelectFromModel\n",
    "from sklearn.metrics import accuracy_score, mean_squared_error\n",
    "import numpy as np\n",
    "from joblib import Parallel, delayed\n",
    "import simulation\n",
    "from math import sqrt\n",
    "pd.options.mode.chained_assignment = None\n",
    "from sklearn.preprocessing import MinMaxScaler\n",
    "import warnings\n",
    "warnings.filterwarnings(action='ignore', category=np.VisibleDeprecationWarning)"
   ]
  },
  {
   "cell_type": "code",
   "execution_count": 6,
   "metadata": {},
   "outputs": [],
   "source": [
    "df_dict = de_orig.separate_by_stock()\n",
    "df_dict = de_orig.fillna(df_dict)"
   ]
  },
  {
   "cell_type": "code",
   "execution_count": 14,
   "metadata": {},
   "outputs": [
    {
     "data": {
      "text/plain": [
       "15"
      ]
     },
     "execution_count": 14,
     "metadata": {},
     "output_type": "execute_result"
    }
   ],
   "source": [
    "len(df_dict)"
   ]
  },
  {
   "cell_type": "code",
   "execution_count": 15,
   "metadata": {},
   "outputs": [
    {
     "name": "stdout",
     "output_type": "stream",
     "text": [
      "<class 'pandas.core.frame.DataFrame'>\n",
      "DatetimeIndex: 1261 entries, 2019-03-15 to 2024-03-18\n",
      "Data columns (total 11 columns):\n",
      " #   Column          Non-Null Count  Dtype  \n",
      "---  ------          --------------  -----  \n",
      " 0   finvader_neg    1261 non-null   float64\n",
      " 1   finvader_neu    1261 non-null   float64\n",
      " 2   finvader_pos    1261 non-null   float64\n",
      " 3   finvader_tot    1261 non-null   float64\n",
      " 4   Open            1261 non-null   float64\n",
      " 5   pos_art_count   1261 non-null   int64  \n",
      " 6   neg_art_count   1261 non-null   int64  \n",
      " 7   neu_art_count   1261 non-null   int64  \n",
      " 8   total_articles  1261 non-null   int64  \n",
      " 9   Open_Diff       1261 non-null   float64\n",
      " 10  y               1261 non-null   float64\n",
      "dtypes: float64(7), int64(4)\n",
      "memory usage: 118.2 KB\n"
     ]
    }
   ],
   "source": [
    "df_dict['AAPL'].info()"
   ]
  },
  {
   "cell_type": "code",
   "execution_count": 7,
   "metadata": {},
   "outputs": [],
   "source": [
    "def train_and_evaluate_trees_debug(model, param_grid, ticker, df, features):\n",
    "    print(f\"Processing {ticker}\")\n",
    "    try:\n",
    "        if not pd.api.types.is_datetime64_any_dtype(df.index):\n",
    "            df['date_column'] = pd.to_datetime(df['date_column'])\n",
    "            df.set_index('date_column', inplace=True)\n",
    "\n",
    "        train, test = de_orig.train_test_split(df)\n",
    "        train, test = train[features], test[features]\n",
    "        #print(train.shape, test.shape)\n",
    "        \n",
    "        cv_splits = de_orig.get_cv_splits(train)\n",
    "        if not cv_splits:\n",
    "            print(\"No CV splits available.\")\n",
    "\n",
    "        performances = []\n",
    "        rmses = []\n",
    "        accuracies = []\n",
    "        #best_params = []\n",
    "        #feature_ranks = {}\n",
    "        i = 0\n",
    "\n",
    "        for train_idx, test_idx in cv_splits:\n",
    "            #print(f\"CV Split {i}:\")\n",
    "            #print(f\"Train indices: {train_idx}\")\n",
    "            #print(f\"Test indices: {test_idx}\")\n",
    "\n",
    "            X_train, y_train = train.loc[train_idx].drop(columns=['y']), train.loc[train_idx]['y']\n",
    "            X_test, y_test = train.loc[test_idx].drop(columns=['y']), train.loc[test_idx]['y']\n",
    "\n",
    "            #print(X_train.shape, y_train.shape)\n",
    "            #print(X_test.shape, y_test.shape)\n",
    "\n",
    "            scaler_X = MinMaxScaler(feature_range=(-1, 1))\n",
    "            scaler_y = MinMaxScaler(feature_range=(-1, 1))\n",
    "\n",
    "            X_train_scaled = scaler_X.fit_transform(X_train)\n",
    "            X_test_scaled = scaler_X.transform(X_test)\n",
    "            y_train_scaled = scaler_y.fit_transform(y_train.values.reshape(-1, 1)).reshape(-1,)\n",
    "\n",
    "            grid_search = GridSearchCV(model, param_grid, scoring='neg_mean_squared_error')\n",
    "            grid_search.fit(X_train_scaled, y_train_scaled)\n",
    "\n",
    "            predictions = grid_search.best_estimator_.predict(X_test_scaled)\n",
    "            predictions = scaler_y.inverse_transform(predictions.reshape(-1, 1)).reshape(-1,)\n",
    "\n",
    "            rmse = sqrt(mean_squared_error(y_test, predictions))\n",
    "            #pred_rise_fall = predictions / np.abs(predictions)\n",
    "            #actual_rise_fall = y_test / np.abs(y_test)\n",
    "            #accuracy = accuracy_score(actual_rise_fall, pred_rise_fall)\n",
    "            accuracy = accuracy_score(np.sign(y_test), np.sign(predictions))\n",
    "\n",
    "            print(f'Ticker: {ticker}, Split {i}, RMSE: {rmse:.3f}, Accuracy: {accuracy:.3f}')\n",
    "\n",
    "            trading_signals = np.sign(predictions)\n",
    "            test_opens = train.loc[test_idx, \"Open\"].values\n",
    "\n",
    "            #print(f\"trading signals for split {i}: {trading_signals}\" )\n",
    "            #print(f\"Test open prices for split {i}: {test_opens}\")\n",
    "\n",
    "            rmses.append(rmse)\n",
    "            accuracies.append(accuracy)\n",
    "            performances.append((trading_signals, test_opens))\n",
    "            #best_params.append(grid_search.best_params_)\n",
    "\n",
    "            #features\n",
    "            #selector = SelectFromModel(grid_search.best_estimator_, threshold=0.01, prefit=True)\n",
    "            #feature_ranks[ticker] = [features[i] for i in selector.get_support(indices=True)]\n",
    "\n",
    "            i += 1\n",
    "\n",
    "        return ticker, performances, rmses, accuracies #, best_params, feature_ranks\n",
    "\n",
    "    except Exception as e:\n",
    "        print(\"Error encountered:\", e)\n",
    "        return None"
   ]
  },
  {
   "cell_type": "code",
   "execution_count": 8,
   "metadata": {},
   "outputs": [],
   "source": [
    "def run_parallel_pipeline(ticker_frames, model, features, param_grid):\n",
    "    results = Parallel(n_jobs=-1)(\n",
    "        delayed(train_and_evaluate_trees_debug)(model, param_grid, ticker, df, features)\n",
    "        for ticker, df in ticker_frames.items()\n",
    "    )\n",
    "    return results"
   ]
  },
  {
   "cell_type": "code",
   "execution_count": 9,
   "metadata": {},
   "outputs": [],
   "source": [
    "features = [\"finvader_tot\", \"pos_art_count\", \"total_articles\", \"Open_Diff\", \"y\", \"Open\"]\n",
    "\n",
    "param_grid = {\n",
    "    'n_estimators':   [100, 500] , #[100, 250, 300, 400, 600, 750, 900, 1000, 1200]\n",
    "    'learning_rate': [0.001, 0.01], #  [0.001, 0.01]\n",
    "    'max_depth':  [2, 6]  #[2, 8] \n",
    "}"
   ]
  },
  {
   "cell_type": "code",
   "execution_count": 10,
   "metadata": {},
   "outputs": [
    {
     "name": "stdout",
     "output_type": "stream",
     "text": [
      "Processing MSFT\n",
      "Processing NVDA\n",
      "Processing ABBV\n",
      "Processing JPM\n",
      "Processing BAC\n",
      "Processing LLY\n",
      "Processing AAPL\n",
      "Processing MRK\n",
      "Processing WFC\n",
      "Processing MA\n",
      "Processing AMZN\n",
      "Processing UNH\n",
      "Processing JNJ\n",
      "Processing GOOGL\n",
      "Processing V\n",
      "Ticker: UNH, Split 0, RMSE: 8.365, Accuracy: 0.578\n",
      "Ticker: LLY, Split 0, RMSE: 4.691, Accuracy: 0.562\n",
      "Ticker: BAC, Split 0, RMSE: 0.726, Accuracy: 0.469\n",
      "Ticker: ABBV, Split 0, RMSE: 2.370, Accuracy: 0.594\n",
      "Ticker: MRK, Split 0, RMSE: 0.983, Accuracy: 0.641\n",
      "Ticker: WFC, Split 0, RMSE: 0.955, Accuracy: 0.484\n",
      "Ticker: JNJ, Split 0, RMSE: 1.724, Accuracy: 0.609\n",
      "Ticker: MA, Split 0, RMSE: 6.901, Accuracy: 0.453\n",
      "Ticker: V, Split 0, RMSE: 4.222, Accuracy: 0.578\n",
      "Ticker: JPM, Split 0, RMSE: 2.177, Accuracy: 0.516\n",
      "Ticker: NVDA, Split 0, RMSE: 9.067, Accuracy: 0.469\n",
      "Ticker: MSFT, Split 0, RMSE: 5.471, Accuracy: 0.531\n",
      "Ticker: GOOGL, Split 0, RMSE: 2.853, Accuracy: 0.500\n",
      "Ticker: AMZN, Split 0, RMSE: 4.260, Accuracy: 0.469\n",
      "Ticker: AAPL, Split 0, RMSE: 3.618, Accuracy: 0.500\n",
      "Ticker: UNH, Split 1, RMSE: 7.965, Accuracy: 0.469\n",
      "Ticker: BAC, Split 1, RMSE: 0.670, Accuracy: 0.484\n",
      "Ticker: ABBV, Split 1, RMSE: 1.981, Accuracy: 0.516\n",
      "Ticker: LLY, Split 1, RMSE: 5.744, Accuracy: 0.453\n",
      "Ticker: MA, Split 1, RMSE: 6.623, Accuracy: 0.547\n",
      "Ticker: JPM, Split 1, RMSE: 2.027, Accuracy: 0.422\n",
      "Ticker: V, Split 1, RMSE: 3.740, Accuracy: 0.578\n",
      "Ticker: MRK, Split 1, RMSE: 1.155, Accuracy: 0.453\n",
      "Ticker: JNJ, Split 1, RMSE: 1.893, Accuracy: 0.438\n",
      "Ticker: WFC, Split 1, RMSE: 0.894, Accuracy: 0.500\n",
      "Ticker: NVDA, Split 1, RMSE: 6.240, Accuracy: 0.469\n",
      "Ticker: MSFT, Split 1, RMSE: 5.175, Accuracy: 0.484\n",
      "Ticker: GOOGL, Split 1, RMSE: 2.311, Accuracy: 0.594\n",
      "Ticker: AMZN, Split 1, RMSE: 3.577, Accuracy: 0.531\n",
      "Ticker: AAPL, Split 1, RMSE: 2.888, Accuracy: 0.562\n",
      "Ticker: UNH, Split 2, RMSE: 8.825, Accuracy: 0.460\n",
      "Ticker: LLY, Split 2, RMSE: 6.350, Accuracy: 0.540\n",
      "Ticker: BAC, Split 2, RMSE: 0.691, Accuracy: 0.444\n",
      "Ticker: ABBV, Split 2, RMSE: 2.305, Accuracy: 0.667\n",
      "Ticker: MA, Split 2, RMSE: 6.592, Accuracy: 0.508\n",
      "Ticker: WFC, Split 2, RMSE: 0.826, Accuracy: 0.460\n",
      "Ticker: JPM, Split 2, RMSE: 2.214, Accuracy: 0.508\n",
      "Ticker: V, Split 2, RMSE: 3.766, Accuracy: 0.492\n",
      "Ticker: MRK, Split 2, RMSE: 1.192, Accuracy: 0.651\n",
      "Ticker: JNJ, Split 2, RMSE: 1.577, Accuracy: 0.540\n",
      "Ticker: NVDA, Split 2, RMSE: 5.004, Accuracy: 0.540\n",
      "Ticker: MSFT, Split 2, RMSE: 5.482, Accuracy: 0.444\n",
      "Ticker: GOOGL, Split 2, RMSE: 2.380, Accuracy: 0.444\n",
      "Ticker: AMZN, Split 2, RMSE: 3.855, Accuracy: 0.413\n",
      "Ticker: AAPL, Split 2, RMSE: 3.531, Accuracy: 0.429\n",
      "Ticker: UNH, Split 3, RMSE: 6.896, Accuracy: 0.450\n",
      "Ticker: LLY, Split 3, RMSE: 5.063, Accuracy: 0.433\n",
      "Ticker: ABBV, Split 3, RMSE: 1.576, Accuracy: 0.500\n",
      "Ticker: BAC, Split 3, RMSE: 0.558, Accuracy: 0.550\n",
      "Ticker: MA, Split 3, RMSE: 5.908, Accuracy: 0.567\n",
      "Ticker: V, Split 3, RMSE: 2.778, Accuracy: 0.550\n",
      "Ticker: MRK, Split 3, RMSE: 1.413, Accuracy: 0.550\n",
      "Ticker: WFC, Split 3, RMSE: 0.749, Accuracy: 0.517\n",
      "Ticker: JNJ, Split 3, RMSE: 1.692, Accuracy: 0.417\n",
      "Ticker: JPM, Split 3, RMSE: 1.819, Accuracy: 0.550\n",
      "Ticker: NVDA, Split 3, RMSE: 6.759, Accuracy: 0.483\n",
      "Ticker: MSFT, Split 3, RMSE: 5.135, Accuracy: 0.517\n",
      "Ticker: GOOGL, Split 3, RMSE: 2.082, Accuracy: 0.450\n",
      "Ticker: AAPL, Split 3, RMSE: 2.465, Accuracy: 0.517\n",
      "Ticker: AMZN, Split 3, RMSE: 2.612, Accuracy: 0.483\n"
     ]
    }
   ],
   "source": [
    "model_gbt = GradientBoostingRegressor()\n",
    "results_gbt = run_parallel_pipeline(df_dict, model_gbt, features, param_grid)"
   ]
  },
  {
   "cell_type": "code",
   "execution_count": 13,
   "metadata": {},
   "outputs": [
    {
     "name": "stdout",
     "output_type": "stream",
     "text": [
      "AAPL 64 64\n",
      "AAPL 64 64\n",
      "AAPL 63 63\n",
      "AAPL 60 60\n",
      "ABBV 64 64\n",
      "ABBV 64 64\n",
      "ABBV 63 63\n",
      "ABBV 60 60\n",
      "AMZN 64 64\n",
      "AMZN 64 64\n",
      "AMZN 63 63\n",
      "AMZN 60 60\n",
      "BAC 64 64\n",
      "BAC 64 64\n",
      "BAC 63 63\n",
      "BAC 60 60\n",
      "GOOGL 64 64\n",
      "GOOGL 64 64\n",
      "GOOGL 63 63\n",
      "GOOGL 60 60\n",
      "JNJ 64 64\n",
      "JNJ 64 64\n",
      "JNJ 63 63\n",
      "JNJ 60 60\n",
      "JPM 64 64\n",
      "JPM 64 64\n",
      "JPM 63 63\n",
      "JPM 60 60\n",
      "LLY 64 64\n",
      "LLY 64 64\n",
      "LLY 63 63\n",
      "LLY 60 60\n",
      "MA 64 64\n",
      "MA 64 64\n",
      "MA 63 63\n",
      "MA 60 60\n",
      "MRK 64 64\n",
      "MRK 64 64\n",
      "MRK 63 63\n",
      "MRK 60 60\n",
      "MSFT 64 64\n",
      "MSFT 64 64\n",
      "MSFT 63 63\n",
      "MSFT 60 60\n",
      "NVDA 64 64\n",
      "NVDA 64 64\n",
      "NVDA 63 63\n",
      "NVDA 60 60\n",
      "UNH 64 64\n",
      "UNH 64 64\n",
      "UNH 63 63\n",
      "UNH 60 60\n",
      "V 64 64\n",
      "V 64 64\n",
      "V 63 63\n",
      "V 60 60\n",
      "WFC 64 64\n",
      "WFC 64 64\n",
      "WFC 63 63\n",
      "WFC 60 60\n",
      "Fold 1 Porfolio Value: 0.9746\n",
      "Fold 2 Porfolio Value: 1.0023\n",
      "Fold 3 Porfolio Value: 1.0187\n",
      "Fold 4 Porfolio Value: 1.0053\n",
      "Average Final Portfolio Value: 1.0002\n",
      "Average Percent Growth: 0.0205%\n"
     ]
    }
   ],
   "source": [
    "cv_trades = [{}, {}, {}, {}]\n",
    "cv_opens = [{}, {}, {}, {}]\n",
    "\n",
    "# Extract tickers, performances, rmses, and direction accuracies from results\n",
    "for result in results_gbt:\n",
    "    ticker, performances, _, _ = result\n",
    "    for i, (trading_signals, test_opens) in enumerate(performances):\n",
    "        cv_trades[i][ticker] = trading_signals\n",
    "        cv_opens[i][ticker] = test_opens\n",
    "        print(ticker, len(cv_trades[i][ticker]), len(cv_opens[i][ticker]))\n",
    "\n",
    "performance_porfolio = []\n",
    "for i in range(4):\n",
    "     performance_fold = simulation.get_performance(cv_trades[i], cv_opens[i])\n",
    "     print(f'Fold {i+1} Porfolio Value: {performance_fold:.4f}')\n",
    "     performance_porfolio.append(performance_fold)\n",
    "\n",
    "average_portfolio_value = np.mean(performance_porfolio)\n",
    "percent_growth = (average_portfolio_value - 1) * 100\n",
    "print(f'Average Final Portfolio Value: {average_portfolio_value:.4f}')\n",
    "print(f'Average Percent Growth: {percent_growth:.4f}%')"
   ]
  },
  {
   "cell_type": "code",
   "execution_count": null,
   "metadata": {},
   "outputs": [],
   "source": []
  }
 ],
 "metadata": {
  "kernelspec": {
   "display_name": "Python 3",
   "language": "python",
   "name": "python3"
  },
  "language_info": {
   "codemirror_mode": {
    "name": "ipython",
    "version": 3
   },
   "file_extension": ".py",
   "mimetype": "text/x-python",
   "name": "python",
   "nbconvert_exporter": "python",
   "pygments_lexer": "ipython3",
   "version": "3.11.9"
  }
 },
 "nbformat": 4,
 "nbformat_minor": 2
}
